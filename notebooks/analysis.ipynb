{
 "cells": [
  {
   "cell_type": "markdown",
   "id": "robust-surgeon",
   "metadata": {},
   "source": [
    "## VHF Analysis\n",
    "\n",
    "This notebook will walkthrough plotting and analysis for water models.  The raw data is in TXT format and contains the van hove function for the various water models.  For more information on how to compute the van hove function, please see [MDTraj](https://www.mdtraj.org/1.9.5/index.html) and the [scattering](https://github.com/mattwthompson/scattering) code.\n",
    "\n",
    "### Importing packages\n",
    "Start off by importing the analysis module within this package"
   ]
  },
  {
   "cell_type": "code",
   "execution_count": null,
   "id": "functional-lighter",
   "metadata": {},
   "outputs": [],
   "source": [
    "from water_vhf_analysis.analysis import plot_relaxation\n",
    "from water_vhf_analysis.analysis import plot_summary\n",
    "from water_vhf_analysis.analysis import plot_partials\n",
    "from water_vhf_analysis.utils.utils import get_txt_file, get_csv_file\n",
    "import numpy as np"
   ]
  },
  {
   "cell_type": "markdown",
   "id": "funny-tennis",
   "metadata": {},
   "source": [
    "### Loading in raw data\n",
    "The raw data is expected to be loaded in as a Python dictionary with the following keys: \"Name\", \"r\", \"t\", and \"g\""
   ]
  },
  {
   "cell_type": "code",
   "execution_count": null,
   "id": "regulated-float",
   "metadata": {},
   "outputs": [],
   "source": [
    "# Load in SPC/E data\n",
    "spce = {\n",
    "     \"r\": np.loadtxt(get_txt_file(\"spce/overlap_nvt\", \"r_final.txt\")),\n",
    "     \"t\": np.loadtxt(get_txt_file(\"spce/overlap_nvt\", \"t_final.txt\")),\n",
    "     \"g\": np.loadtxt(get_txt_file(\"spce/overlap_nvt\", \"vhf_final.txt\")),\n",
    "     \"name\": \"SPC/E (CMD)\",\n",
    " }\n",
    "\n",
    "# Load in TIP3P_EW data\n",
    "tip3pew = {\n",
    "     \"r\": np.loadtxt(get_txt_file(\"tip3p_ew/overlap_nvt\", \"r_final.txt\")),\n",
    "     \"t\": np.loadtxt(get_txt_file(\"tip3p_ew/overlap_nvt\", \"t_final.txt\")),\n",
    "     \"g\": np.loadtxt(get_txt_file(\"tip3p_ew/overlap_nvt\", \"vhf_final.txt\")),\n",
    "     \"name\": \"TIP3P_EW (CMD)\",\n",
    " }\n",
    "\n",
    "# Load in reaxff data\n",
    "bk3 = {\n",
    "     \"r\": np.loadtxt(get_txt_file(\"bk3/overlap_nvt\", \"r_final.txt\")),\n",
    "     \"t\": np.loadtxt(get_txt_file(\"bk3/overlap_nvt\", \"t_final.txt\")),\n",
    "     \"g\": np.loadtxt(get_txt_file(\"bk3/overlap_nvt\", \"vhf_final.txt\")),\n",
    "     \"name\": \"BK3 (Polarizable CMD)\",\n",
    " }\n",
    "\n",
    "# Load in DFTB data\n",
    "dftb = {\n",
    "     \"r\": np.loadtxt(get_txt_file(\"dftb/overlap_nvt\", \"r_final.txt\")),\n",
    "     \"t\": np.loadtxt(get_txt_file(\"dftb/overlap_nvt\", \"t_final.txt\")),\n",
    "     \"g\": np.loadtxt(get_txt_file(\"dftb/overlap_nvt\", \"vhf_final.txt\")),\n",
    "     \"name\": \"3obw (DFTB)\",\n",
    " }\n",
    "\n",
    "# Load in reaxff data\n",
    "reaxff = {\n",
    "     \"r\": np.loadtxt(get_txt_file(\"reaxff/overlap_nvt\", \"r_final.txt\")),\n",
    "     \"t\": np.loadtxt(get_txt_file(\"reaxff/overlap_nvt\", \"t_final.txt\")),\n",
    "     \"g\": np.loadtxt(get_txt_file(\"reaxff/overlap_nvt\", \"vhf_final.txt\")),\n",
    "     \"name\": \"CHON-2017_weak (ReaxFF)\",\n",
    " }\n",
    "\n",
    "# Load in aimd data\n",
    "aimd = {\n",
    "     \"r\": np.loadtxt(get_txt_file(\"aimd/overlap_nvt\", \"r_final.txt\")),\n",
    "     \"t\": np.loadtxt(get_txt_file(\"aimd/overlap_nvt\", \"t_final.txt\")),\n",
    "     \"g\": np.loadtxt(get_txt_file(\"aimd/overlap_nvt\", \"vhf_final.txt\")),\n",
    "     \"name\": \"optB88 (AIMD)\",\n",
    " }\n",
    "\n",
    "# Load in aimd data at 300K\n",
    "aimd_330 = {\n",
    "     \"r\": np.loadtxt(get_txt_file(\"aimd/330k/overlap_nvt\", \"r_final.txt\")),\n",
    "     \"t\": np.loadtxt(get_txt_file(\"aimd/330k/overlap_nvt\", \"t_final.txt\")),\n",
    "     \"g\": np.loadtxt(get_txt_file(\"aimd/330k/overlap_nvt\", \"vhf_final.txt\")),\n",
    "     \"name\": \"optB88 at 330 K (AIMD)\",\n",
    " }\n",
    "\n",
    "# Load in IXS data\n",
    "# Multiplying r by 0.1 to convert from angstroms to nm\n",
    "# Adding 1 to g(r,t)-1\n",
    "ixs = {\n",
    "     \"r\": 0.1 * np.loadtxt(get_txt_file(\"expt\", \"R_1811pure.txt\"))[0],\n",
    "     \"t\": np.loadtxt(get_txt_file(\"expt\", \"t_1811pure.txt\"))[:,0],\n",
    "     \"g\": 1 + np.loadtxt(get_txt_file(\"expt\", \"VHF_1811pure.txt\")),\n",
    "     \"name\": \"IXS\",\n",
    " }\n",
    "\n",
    "data = [ixs, spce, tip3pew, bk3, reaxff, dftb, aimd, aimd_330]"
   ]
  },
  {
   "cell_type": "markdown",
   "id": "egyptian-angel",
   "metadata": {},
   "source": [
    "### Plotting Total VHF\n",
    "\n",
    "A subplot containing $G(r, t)$ as a function of distance and a heatmap of $G(r, t)-1$ can be plotted with the function `plot_total_subplots`.  The first argument is our list of dictionaries containing the raw data, and the `save` argument is set to False since we don't want to save out this figure."
   ]
  },
  {
   "cell_type": "code",
   "execution_count": null,
   "id": "advisory-operations",
   "metadata": {},
   "outputs": [],
   "source": [
    "plot_summary.plot_total_subplots(data, save=False)"
   ]
  },
  {
   "cell_type": "markdown",
   "id": "successful-calibration",
   "metadata": {},
   "source": [
    "### Plotting correlations\n",
    "The functions to plot correlations are contained within `plot_relaxation.py`.  In the paper, the correlations related to the first neighbor peak are analyzed through the magnitude of G(r, t) as well as through the area under the curve, A(t), of the first peak.  This is plotted with the function `plot_first_peak_subplot()`."
   ]
  },
  {
   "cell_type": "code",
   "execution_count": null,
   "id": "congressional-beverage",
   "metadata": {
    "scrolled": true
   },
   "outputs": [],
   "source": [
    "# Plot the correlations for the first peak\n",
    "plot_relaxation.plot_first_peak_subplot(data, save=False)"
   ]
  },
  {
   "cell_type": "markdown",
   "id": "tropical-split",
   "metadata": {},
   "source": [
    "A(t) displays a two-step decay.  We can fit this decay to an exponential equation.  We can perform this curve fitting and plot the results for each model."
   ]
  },
  {
   "cell_type": "code",
   "execution_count": null,
   "id": "charming-nutrition",
   "metadata": {},
   "outputs": [],
   "source": [
    "# Plot the fits for A(t)\n",
    "plot_relaxation.first_peak_auc(data, save=False)"
   ]
  },
  {
   "cell_type": "markdown",
   "id": "incredible-poster",
   "metadata": {},
   "source": [
    "When running this function, the fitting results are saved to a CSV file.  This can be loaded into a Pandas DataFrame to view."
   ]
  },
  {
   "cell_type": "code",
   "execution_count": null,
   "id": "optional-circuit",
   "metadata": {},
   "outputs": [],
   "source": [
    "import pandas as pd\n",
    "\n",
    "df = pd.read_csv(get_csv_file(\"first_peak_fits.csv\"))\n",
    "df"
   ]
  },
  {
   "cell_type": "markdown",
   "id": "tender-change",
   "metadata": {},
   "source": [
    "The height of the second peak, $G_2(t)$, was also calculated.  Due to different values at $t=0$, these values were also normalized."
   ]
  },
  {
   "cell_type": "code",
   "execution_count": null,
   "id": "wanted-payment",
   "metadata": {},
   "outputs": [],
   "source": [
    "# Plot the correlations for the second peak\n",
    "plot_relaxation.plot_second_subplot(data, save=False)"
   ]
  },
  {
   "cell_type": "markdown",
   "id": "adverse-handy",
   "metadata": {},
   "source": [
    "### Plot partial Van Hove functions\n",
    "The van hove functions for the specific pairwise interactions were also computed.  These functions are contained within `plot_partials`.  For these functions, I'm going to use a function to load in the data."
   ]
  },
  {
   "cell_type": "code",
   "execution_count": null,
   "id": "chronic-feeling",
   "metadata": {},
   "outputs": [],
   "source": [
    "# Load in oxygen-oxygen partial data\n",
    "\n",
    "oo = plot_partials.get_data(\"O_O\")\n",
    "plot_partials.plot_vhf_subplots(oo)"
   ]
  },
  {
   "cell_type": "code",
   "execution_count": null,
   "id": "democratic-woman",
   "metadata": {},
   "outputs": [],
   "source": [
    "# Load in oxygen-hydrogen partial data\n",
    "\n",
    "oh = plot_partials.get_data(\"O_H\")\n",
    "plot_partials.plot_vhf_subplots(oh)"
   ]
  },
  {
   "cell_type": "code",
   "execution_count": null,
   "id": "normal-curve",
   "metadata": {},
   "outputs": [],
   "source": [
    "# Load in hydrogen-hydrogen partial data\n",
    "\n",
    "hh = plot_partials.get_data(\"H_H\")\n",
    "plot_partials.plot_vhf_subplots(hh)"
   ]
  },
  {
   "cell_type": "markdown",
   "id": "administrative-rochester",
   "metadata": {},
   "source": [
    "The height of the partial peaks have also been plotted."
   ]
  },
  {
   "cell_type": "code",
   "execution_count": null,
   "id": "satisfactory-constraint",
   "metadata": {},
   "outputs": [],
   "source": [
    "# Plot correlations for partial van hove functions\n",
    "\n",
    "plot_partials.plot_peak_subplots(save=False)"
   ]
  },
  {
   "cell_type": "code",
   "execution_count": null,
   "id": "antique-steps",
   "metadata": {},
   "outputs": [],
   "source": []
  }
 ],
 "metadata": {
  "kernelspec": {
   "display_name": "Python 3",
   "language": "python",
   "name": "python3"
  },
  "language_info": {
   "codemirror_mode": {
    "name": "ipython",
    "version": 3
   },
   "file_extension": ".py",
   "mimetype": "text/x-python",
   "name": "python",
   "nbconvert_exporter": "python",
   "pygments_lexer": "ipython3",
   "version": "3.7.6"
  }
 },
 "nbformat": 4,
 "nbformat_minor": 5
}
