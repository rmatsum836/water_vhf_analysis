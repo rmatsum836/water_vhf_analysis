{
 "cells": [
  {
   "cell_type": "code",
   "execution_count": null,
   "metadata": {},
   "outputs": [],
   "source": [
    "import numpy as np\n",
    "import mdtraj as md\n",
    "import scattering\n",
    "from scattering.utils.features import find_local_maxima\n",
    "import matplotlib.pyplot as plt"
   ]
  },
  {
   "cell_type": "markdown",
   "metadata": {},
   "source": [
    "### The first step is to load the simulation trajectory through MDTraj.\n",
    "\n",
    "The file paths here work for me, but you will have to change them for you specific machine"
   ]
  },
  {
   "cell_type": "markdown",
   "metadata": {},
   "source": [
    "500 means 500 waters, need to do 128 waters for comparison to AIMD\n",
    "maybe try water128_3obw-d3_500-550ps_traject.xyz\n",
    "Also need to change box sizes when changing trj\n",
    "\n",
    "Need to use updated trj with 128 waters and 500-550 ps times\n",
    "it should have box size 15.655\n",
    "water128_3obw-d3_500-550ps_traject.xyz; 15.655 15.655 15.655\n",
    "\n",
    "Ideas & to-do\n",
    "* Need to compare static RDFs DFTB vs DFT (using same # waters \n",
    "* Maybe compare sampling over little chunks of 10 ps time windows, to see if there are differencs in structure over time - actually maybe not\n",
    "* DFTB also wants to see comparison between d3 and no d3 (d3 is the Grimme disperson) - some questions about if the \"best data\" is truly best without testing it\n",
    "* pick d3 vs no d3 based on if Paul is including dispersion - it seems like Paul is but need to check\n",
    "* New data is at https://drive.google.com/open?id=13IbBPYzHxg91ppSthFlGWXrPJGOMpX1J\n",
    "\n",
    "* Data labelled: water128_3obw-d3_500-550ps_traject.xyz\n",
    "  * 128 = num waters\n",
    "  * d3 vs nod3 = if dispersion is on or not\n",
    "  * ps numbers are start and end time"
   ]
  },
  {
   "cell_type": "markdown",
   "metadata": {},
   "source": [
    "### First we will load in the DFTB trajectory with the D3 dispersion"
   ]
  },
  {
   "cell_type": "code",
   "execution_count": null,
   "metadata": {},
   "outputs": [],
   "source": [
    "trj = md.load(\n",
    "    'water4vanHoveS/water4vanHove_DFTB/water500_3obw-d3_500-550ps_traject.xyz',\n",
    "    top='water4vanHoveS/water500_3obw-d3_150-200ps.pdb'\n",
    ")"
   ]
  },
  {
   "cell_type": "code",
   "execution_count": null,
   "metadata": {},
   "outputs": [],
   "source": [
    "# Changing the lengths and angles of the simulation box\n",
    "trj._unitcell_angles = np.zeros((trj.n_frames, 3))\n",
    "trj._unitcell_lengths = np.zeros((trj.n_frames, 3))\n",
    "\n",
    "trj._unitcell_angles[:] = [90, 90, 90]\n",
    "trj._unitcell_lengths[:] = [2.4655, 2.4655, 2.4655]\n",
    "\n",
    "trj.time = trj.time * 0.01"
   ]
  },
  {
   "cell_type": "code",
   "execution_count": null,
   "metadata": {},
   "outputs": [],
   "source": [
    "# Compute the Van Hove function\n",
    "# The VHF is averaged by \"chunks\" and `chunk_length` determines the number of frames\n",
    "# in each chunk\n",
    "\n",
    "chunk_length=200\n",
    "\n",
    "r, t, g_r_t = scattering.compute_van_hove(trj, chunk_length=chunk_length, water=True)"
   ]
  },
  {
   "cell_type": "code",
   "execution_count": null,
   "metadata": {},
   "outputs": [],
   "source": [
    "# Plot the data and save as a PDF\n",
    "fig, ax = plt.subplots(figsize=(5, 3))\n",
    "\n",
    "for j in range(chunk_length):\n",
    "    if j % 10 !=0 or j > 1000:\n",
    "        continue\n",
    "    r_max, g_r_max = find_local_maxima(r, g_r_t[j], r_guess=0.3)\n",
    "    ax.plot(r_max, g_r_max, 'k.')\n",
    "    r_max, g_r_max = find_local_maxima(r, g_r_t[j], r_guess=0.45)\n",
    "    ax.plot(r_max, g_r_max, 'k.')\n",
    "    ax.plot(r, g_r_t[j], label='{:.3f} ps'.format(t[j]))\n",
    "\n",
    "for ax in [ax]:\n",
    "    ax.set_xlim((0, 0.8))\n",
    "    ax.set_ylim((0, 3.0))\n",
    "    ax.legend(loc='upper right')\n",
    "    ax.set_xlabel(r'Radial coordinate, $r$, $nm$')\n",
    "    ax.set_ylabel(r'Van Hove Function, , $g(r, t)$, $unitiless$')\n",
    "plt.savefig('water_form/d3.pdf')"
   ]
  },
  {
   "cell_type": "code",
   "execution_count": null,
   "metadata": {},
   "outputs": [],
   "source": [
    "# Save data as txt files\n",
    "np.savetxt('water_form/d3_r.txt', r)\n",
    "np.savetxt('water_form/d3_t.txt', t)\n",
    "np.savetxt('water_form/d3_vhf.txt', g_r_t)"
   ]
  },
  {
   "cell_type": "markdown",
   "metadata": {},
   "source": [
    "### Next we calculate the static RDF through MDTraj"
   ]
  },
  {
   "cell_type": "code",
   "execution_count": null,
   "metadata": {},
   "outputs": [],
   "source": [
    "pairs = trj.top.select_pairs('name O', 'name O')"
   ]
  },
  {
   "cell_type": "code",
   "execution_count": null,
   "metadata": {},
   "outputs": [],
   "source": [
    "r, g_r = md.compute_rdf(trj[::100], pairs=pairs)\n",
    "\n",
    "fig, ax = plt.subplots()\n",
    "\n",
    "ax.plot(r, g_r, 'k-')\n",
    "\n",
    "ax.set_title(r'Static RDF of DFTB trajectory')\n",
    "ax.set_xlabel('r, nm')\n",
    "ax.set_ylabel('RDF')\n",
    "ax.set_xlim((0, 0.8))\n",
    "ax.set_ylim((0, 3))"
   ]
  },
  {
   "cell_type": "markdown",
   "metadata": {},
   "source": [
    "### Here we load in the 128 molecules trajectory with D3 dispersion"
   ]
  },
  {
   "cell_type": "code",
   "execution_count": null,
   "metadata": {},
   "outputs": [],
   "source": [
    "trj = md.load(\n",
    "     'water4vanHoveS/water4vanHove_DFTB/water128_3obw-d3_500-550ps_traject.xyz',\n",
    "     top='water4vanHoveS/water4vanHove_DFTB/water128.pdb'\n",
    " )"
   ]
  },
  {
   "cell_type": "code",
   "execution_count": null,
   "metadata": {},
   "outputs": [],
   "source": [
    "trj._unitcell_angles = np.zeros((trj.n_frames, 3))\n",
    "trj._unitcell_lengths = np.zeros((trj.n_frames, 3))\n",
    "\n",
    "trj._unitcell_angles[:] = [90, 90, 90]\n",
    "trj._unitcell_lengths[:] = [1.5655, 1.5655, 1.5655]\n",
    "\n",
    "trj.time = trj.time * 0.01"
   ]
  },
  {
   "cell_type": "code",
   "execution_count": null,
   "metadata": {},
   "outputs": [],
   "source": [
    "chunk_length=200\n",
    "\n",
    "r, t, g_r_t = scattering.compute_van_hove(trj, chunk_length=chunk_length, water=True)"
   ]
  },
  {
   "cell_type": "code",
   "execution_count": null,
   "metadata": {},
   "outputs": [],
   "source": [
    "fig, ax = plt.subplots(figsize=(5, 3))\n",
    "\n",
    "for j in range(chunk_length):\n",
    "    if j % 10 !=0 or j > 1000:\n",
    "        continue\n",
    "    r_max, g_r_max = find_local_maxima(r, g_r_t[j], r_guess=0.3)\n",
    "    ax.plot(r_max, g_r_max, 'k.')\n",
    "    r_max, g_r_max = find_local_maxima(r, g_r_t[j], r_guess=0.45)\n",
    "    ax.plot(r_max, g_r_max, 'k.')\n",
    "    ax.plot(r, g_r_t[j], label='{:.3f} ps'.format(t[j]))\n",
    "\n",
    "for ax in [ax]:\n",
    "    ax.set_xlim((0, 0.8))\n",
    "    ax.set_ylim((0, 3.0))\n",
    "    ax.legend(loc='upper right')\n",
    "    ax.set_xlabel(r'Radial coordinate, $r$, $nm$')\n",
    "    ax.set_ylabel(r'Van Hove Function, , $g(r, t)$, $unitiless$')\n",
    "#plt.savefig('water_form/van-hove-function.pdf')"
   ]
  },
  {
   "cell_type": "markdown",
   "metadata": {},
   "source": [
    "### Lastly we load and analyze the DFTB trajectory without D3 dispersion"
   ]
  },
  {
   "cell_type": "code",
   "execution_count": null,
   "metadata": {},
   "outputs": [],
   "source": [
    "# No d3\n",
    "nod3 = md.load(\n",
    "    'water4vanHoveS/water4vanHove_DFTB/water500_3obw-nod3_500-550ps_traject.xyz',\n",
    "    top='water4vanHoveS/water500_3obw-d3_150-200ps.pdb'\n",
    ")\n",
    "\n",
    "nod3._unitcell_angles = np.zeros((nod3.n_frames, 3))\n",
    "nod3._unitcell_lengths = np.zeros((nod3.n_frames, 3))\n",
    "\n",
    "nod3._unitcell_angles[:] = [90, 90, 90]\n",
    "nod3._unitcell_lengths[:] = [2.4655, 2.4655, 2.4655]\n",
    "\n",
    "nod3.time = nod3.time * 0.01"
   ]
  },
  {
   "cell_type": "code",
   "execution_count": null,
   "metadata": {},
   "outputs": [],
   "source": [
    "chunk_length=200\n",
    "\n",
    "no_r, no_t, no_g_r_t = scattering.compute_van_hove(nod3, chunk_length=chunk_length, water=True)"
   ]
  },
  {
   "cell_type": "code",
   "execution_count": null,
   "metadata": {},
   "outputs": [],
   "source": [
    "fig, ax = plt.subplots(figsize=(5, 3))\n",
    "\n",
    "for j in range(chunk_length):\n",
    "    if j % 10 !=0 or j > 1000:\n",
    "        continue\n",
    "    r_max, g_r_max = find_local_maxima(no_r, no_g_r_t[j], r_guess=0.3)\n",
    "    ax.plot(r_max, g_r_max, 'k.')\n",
    "    r_max, g_r_max = find_local_maxima(no_r, no_g_r_t[j], r_guess=0.45)\n",
    "    ax.plot(r_max, g_r_max, 'k.')\n",
    "    ax.plot(no_r, no_g_r_t[j], label='{:.3f} ps'.format(no_t[j]))\n",
    "\n",
    "for ax in [ax]:\n",
    "    ax.set_xlim((0, 0.8))\n",
    "    ax.set_ylim((0, 3.0))\n",
    "    ax.legend(loc='upper right')\n",
    "    ax.set_xlabel(r'Radial coordinate, $r$, $nm$')\n",
    "    ax.set_ylabel(r'Van Hove Function, , $g(r, t)$, $unitless$')\n",
    "plt.savefig('water_form/no_d3.pdf')\n",
    "\n",
    "#fig, ax = plt.subplots(figsize=(5, 3))"
   ]
  },
  {
   "cell_type": "code",
   "execution_count": null,
   "metadata": {},
   "outputs": [],
   "source": [
    "np.savetxt('water_form/no_d3_r.txt', no_r)\n",
    "np.savetxt('water_form/no_d3_t.txt', no_t)\n",
    "np.savetxt('water_form/no_d3_vhf.txt', no_g_r_t)"
   ]
  }
 ],
 "metadata": {
  "kernelspec": {
   "display_name": "Python 3",
   "language": "python",
   "name": "python3"
  },
  "language_info": {
   "codemirror_mode": {
    "name": "ipython",
    "version": 3
   },
   "file_extension": ".py",
   "mimetype": "text/x-python",
   "name": "python",
   "nbconvert_exporter": "python",
   "pygments_lexer": "ipython3",
   "version": "3.7.6"
  }
 },
 "nbformat": 4,
 "nbformat_minor": 2
}
